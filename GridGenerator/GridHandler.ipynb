{
 "cells": [
  {
   "cell_type": "code",
   "execution_count": 1,
   "metadata": {},
   "outputs": [],
   "source": [
    "import glob\n",
    "import itertools\n",
    "import random\n",
    "\n",
    "from PIL import Image"
   ]
  },
  {
   "cell_type": "code",
   "execution_count": 2,
   "metadata": {},
   "outputs": [],
   "source": [
    "def getImage(filename):\n",
    "    imageObject = Image.open(filename)\n",
    "    imageObject = imageObject.crop((160,0,1120,720))\n",
    "    return imageObject.resize((480 , 360))\n",
    "\n",
    "def createGrid(gridImageFiles, x=3, y=3, xImage=480, yImage=360):\n",
    "    gridImageIndex = 0\n",
    "    gridImage = Image.new('RGB', (xImage*x,yImage*y))\n",
    "    for i in range(0,xImage*x,xImage):\n",
    "        for j in range(0,yImage*y,yImage):\n",
    "            im = getImage(gridImageFiles[gridImageIndex])\n",
    "            im.thumbnail((xImage,yImage))\n",
    "            gridImage.paste(im, (i,j))\n",
    "            gridImageIndex += 1\n",
    "    return gridImage\n",
    "\n",
    "def categoriseImageFileNames(allImagesFiles):    \n",
    "    categories = {\n",
    "        \"fear\": [], \n",
    "        \"surprise\": [], \n",
    "        \"sadness\": [], \n",
    "        \"joy\": [], \n",
    "        \"embarrassment\": [], \n",
    "        \"disgust\": [], \n",
    "        \"contempt\": [], \n",
    "        \"anger\": [],\n",
    "        \"neutral\": []\n",
    "    }\n",
    "    for imageFilename in allImagesFiles:\n",
    "        emotion = list(filter(lambda x: x in imageFilename and \"neutral\" not in imageFilename, categories.keys())) or [\"neutral\"]\n",
    "        categories[emotion[0]].append(imageFilename)\n",
    "    return categories\n",
    "\n",
    "def saveGrid(combination, name):\n",
    "    target = list(combination)\n",
    "    random.shuffle(target)\n",
    "    grid = createGrid(target)\n",
    "    grid.save(\"Grids/\"+name+\".png\")\n",
    "    with open(\"GridsMetas/\" + name + \".txt\", 'w') as f:\n",
    "        for fileName in target:\n",
    "            f.write(\"%s\\n\" % fileName)\n",
    "    print(\"Grid \"+name+\" saved!\")"
   ]
  },
  {
   "cell_type": "code",
   "execution_count": null,
   "metadata": {},
   "outputs": [],
   "source": [
    "allImagesFiles = glob.glob(\"Highlast/*\")\n",
    "categories = categoriseImageFileNames(allImagesFiles) \n",
    "allCombinations = list(set(itertools.product(\n",
    "    categories['fear'],\n",
    "    categories['surprise'],\n",
    "    categories['sadness'],\n",
    "    categories['joy'],\n",
    "    categories['embarrassment'],\n",
    "    categories['disgust'],\n",
    "    categories['contempt'],\n",
    "    categories['anger'],\n",
    "    categories['neutral'],\n",
    ")))"
   ]
  },
  {
   "cell_type": "code",
   "execution_count": 11,
   "metadata": {},
   "outputs": [],
   "source": [
    "for i in range(0,9):\n",
    "    saveGrid(allCombinations[i], \"Grid\" + str(i))"
   ]
  }
 ],
 "metadata": {
  "kernelspec": {
   "display_name": "Python 3",
   "language": "python",
   "name": "python3"
  },
  "language_info": {
   "codemirror_mode": {
    "name": "ipython",
    "version": 3
   },
   "file_extension": ".py",
   "mimetype": "text/x-python",
   "name": "python",
   "nbconvert_exporter": "python",
   "pygments_lexer": "ipython3",
   "version": "3.7.4"
  }
 },
 "nbformat": 4,
 "nbformat_minor": 2
}
